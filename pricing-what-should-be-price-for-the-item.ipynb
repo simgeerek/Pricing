{
 "cells": [
  {
   "cell_type": "markdown",
   "metadata": {
    "papermill": {
     "duration": 0.033031,
     "end_time": "2020-11-08T08:05:08.735935",
     "exception": false,
     "start_time": "2020-11-08T08:05:08.702904",
     "status": "completed"
    },
    "tags": []
   },
   "source": [
    "## PRICING: What should be price for the item ?\n",
    "A game company gave gift coins to its users for purchasing items in a game.Using these virtual coins, users buy various items for their characters.The game company did not specify a price for an item and provided users to buy this item at the price they wanted.For example, for the item named shield, users will buy this shield by paying the amounts they see fit.A user can pay with 30 units of virtual money given to his/her, while the other user can pay with 45 units. Therefore, users can buy this item with the amounts they can afford to pay.\n",
    "\n",
    "## Problems to be solved:\n",
    "1. Does the price of the item differ by category? Express it statistically.\n",
    "1. Depending on the first question, what should the item cost? Explain why?\n",
    "1. It is desirable to be \"flexible\" in terms of price. Create a decision support system for the price strategy.\n",
    "1. Simulate item purchases and income for possible price changes."
   ]
  },
  {
   "cell_type": "markdown",
   "metadata": {
    "papermill": {
     "duration": 0.031117,
     "end_time": "2020-11-08T08:05:08.799186",
     "exception": false,
     "start_time": "2020-11-08T08:05:08.768069",
     "status": "completed"
    },
    "tags": []
   },
   "source": [
    "## Data Analysis"
   ]
  },
  {
   "cell_type": "code",
   "execution_count": 1,
   "metadata": {
    "execution": {
     "iopub.execute_input": "2020-11-08T08:05:08.869110Z",
     "iopub.status.busy": "2020-11-08T08:05:08.868261Z",
     "iopub.status.idle": "2020-11-08T08:05:09.852227Z",
     "shell.execute_reply": "2020-11-08T08:05:09.851377Z"
    },
    "papermill": {
     "duration": 1.021577,
     "end_time": "2020-11-08T08:05:09.852359",
     "exception": false,
     "start_time": "2020-11-08T08:05:08.830782",
     "status": "completed"
    },
    "tags": []
   },
   "outputs": [],
   "source": [
    "# loading necessary libraries\n",
    "import pandas as pd\n",
    "import itertools\n",
    "import statsmodels.stats.api as sms\n",
    "from scipy.stats import shapiro\n",
    "import scipy.stats as stats"
   ]
  },
  {
   "cell_type": "code",
   "execution_count": 2,
   "metadata": {
    "execution": {
     "iopub.execute_input": "2020-11-08T08:05:09.925095Z",
     "iopub.status.busy": "2020-11-08T08:05:09.924273Z",
     "iopub.status.idle": "2020-11-08T08:05:09.935824Z",
     "shell.execute_reply": "2020-11-08T08:05:09.935033Z"
    },
    "papermill": {
     "duration": 0.050804,
     "end_time": "2020-11-08T08:05:09.935955",
     "exception": false,
     "start_time": "2020-11-08T08:05:09.885151",
     "status": "completed"
    },
    "tags": []
   },
   "outputs": [],
   "source": [
    "# reading the data\n",
    "df = pd.read_csv(\"../input/pricing-dataset/pricing.csv\", sep=\";\")"
   ]
  },
  {
   "cell_type": "code",
   "execution_count": 3,
   "metadata": {
    "execution": {
     "iopub.execute_input": "2020-11-08T08:05:10.012585Z",
     "iopub.status.busy": "2020-11-08T08:05:10.011442Z",
     "iopub.status.idle": "2020-11-08T08:05:10.015023Z",
     "shell.execute_reply": "2020-11-08T08:05:10.014251Z"
    },
    "papermill": {
     "duration": 0.046915,
     "end_time": "2020-11-08T08:05:10.015151",
     "exception": false,
     "start_time": "2020-11-08T08:05:09.968236",
     "status": "completed"
    },
    "tags": []
   },
   "outputs": [],
   "source": [
    "# Analyze the dataframes \n",
    "def analyze_df (df):\n",
    "    print(\"Shape of dataframe: {0}\".format(df.shape), \"\\n\") # shape of dataframe\n",
    "    print(\"There are {0} observations and {1} features\".format(len(df),len(df.columns)),\"\\n\") # number of observations and features\n",
    "    print(df.head(),\"\\n\") # first 5 observation\n",
    "    print(\"Number of unique categories:{0}\".format(df[\"category_id\"].nunique()),\"\\n\")\n",
    "    print(\"Names of categories:{0}\".format(df[\"category_id\"].unique()),\"\\n\")\n",
    "    for col in df.columns:\n",
    "        print(\" Number of null value in the {0} column: {1}\".format(col,df[col].isnull().sum())) # is there a null value in any columns\n",
    "    print(df.describe().T,\"\\n\") # for observe the outliers"
   ]
  },
  {
   "cell_type": "code",
   "execution_count": 4,
   "metadata": {
    "execution": {
     "iopub.execute_input": "2020-11-08T08:05:10.092293Z",
     "iopub.status.busy": "2020-11-08T08:05:10.091459Z",
     "iopub.status.idle": "2020-11-08T08:05:10.119738Z",
     "shell.execute_reply": "2020-11-08T08:05:10.118926Z"
    },
    "papermill": {
     "duration": 0.072258,
     "end_time": "2020-11-08T08:05:10.119872",
     "exception": false,
     "start_time": "2020-11-08T08:05:10.047614",
     "status": "completed"
    },
    "tags": []
   },
   "outputs": [
    {
     "name": "stdout",
     "output_type": "stream",
     "text": [
      "Shape of dataframe: (3448, 2) \n",
      "\n",
      "There are 3448 observations and 2 features \n",
      "\n",
      "   category_id      price\n",
      "0       489756  32.117753\n",
      "1       361254  30.711370\n",
      "2       361254  31.572607\n",
      "3       489756  34.543840\n",
      "4       489756  47.205824 \n",
      "\n",
      "Number of unique categories:6 \n",
      "\n",
      "Names of categories:[489756 361254 874521 326584 675201 201436] \n",
      "\n",
      " Number of null value in the category_id column: 0\n",
      " Number of null value in the price column: 0\n",
      "              count           mean            std       min            25%  \\\n",
      "category_id  3448.0  542415.171984  192805.689911  201436.0  457630.500000   \n",
      "price        3448.0    3254.475770   25235.799009      10.0      31.890438   \n",
      "\n",
      "                       50%            75%            max  \n",
      "category_id  489756.000000  675201.000000  874521.000000  \n",
      "price            34.798544      41.536211  201436.991255   \n",
      "\n"
     ]
    }
   ],
   "source": [
    "analyze_df (df)"
   ]
  },
  {
   "cell_type": "code",
   "execution_count": 5,
   "metadata": {
    "execution": {
     "iopub.execute_input": "2020-11-08T08:05:10.204838Z",
     "iopub.status.busy": "2020-11-08T08:05:10.203595Z",
     "iopub.status.idle": "2020-11-08T08:05:10.213287Z",
     "shell.execute_reply": "2020-11-08T08:05:10.214010Z"
    },
    "papermill": {
     "duration": 0.060189,
     "end_time": "2020-11-08T08:05:10.214170",
     "exception": false,
     "start_time": "2020-11-08T08:05:10.153981",
     "status": "completed"
    },
    "tags": []
   },
   "outputs": [
    {
     "data": {
      "text/html": [
       "<div>\n",
       "<style scoped>\n",
       "    .dataframe tbody tr th:only-of-type {\n",
       "        vertical-align: middle;\n",
       "    }\n",
       "\n",
       "    .dataframe tbody tr th {\n",
       "        vertical-align: top;\n",
       "    }\n",
       "\n",
       "    .dataframe thead th {\n",
       "        text-align: right;\n",
       "    }\n",
       "</style>\n",
       "<table border=\"1\" class=\"dataframe\">\n",
       "  <thead>\n",
       "    <tr style=\"text-align: right;\">\n",
       "      <th></th>\n",
       "      <th>price</th>\n",
       "    </tr>\n",
       "    <tr>\n",
       "      <th>category_id</th>\n",
       "      <th></th>\n",
       "    </tr>\n",
       "  </thead>\n",
       "  <tbody>\n",
       "    <tr>\n",
       "      <th>201436</th>\n",
       "      <td>36.175498</td>\n",
       "    </tr>\n",
       "    <tr>\n",
       "      <th>326584</th>\n",
       "      <td>1424.665182</td>\n",
       "    </tr>\n",
       "    <tr>\n",
       "      <th>361254</th>\n",
       "      <td>1659.680663</td>\n",
       "    </tr>\n",
       "    <tr>\n",
       "      <th>489756</th>\n",
       "      <td>3589.808526</td>\n",
       "    </tr>\n",
       "    <tr>\n",
       "      <th>675201</th>\n",
       "      <td>3112.240362</td>\n",
       "    </tr>\n",
       "    <tr>\n",
       "      <th>874521</th>\n",
       "      <td>4605.357258</td>\n",
       "    </tr>\n",
       "  </tbody>\n",
       "</table>\n",
       "</div>"
      ],
      "text/plain": [
       "                   price\n",
       "category_id             \n",
       "201436         36.175498\n",
       "326584       1424.665182\n",
       "361254       1659.680663\n",
       "489756       3589.808526\n",
       "675201       3112.240362\n",
       "874521       4605.357258"
      ]
     },
     "execution_count": 5,
     "metadata": {},
     "output_type": "execute_result"
    }
   ],
   "source": [
    "# When the average price by categories is analyzed, we can make comparisons for groups, but we need to prove this statistically.\n",
    "df.groupby(\"category_id\").agg({\"price\":\"mean\"})"
   ]
  },
  {
   "cell_type": "markdown",
   "metadata": {
    "papermill": {
     "duration": 0.032875,
     "end_time": "2020-11-08T08:05:10.281071",
     "exception": false,
     "start_time": "2020-11-08T08:05:10.248196",
     "status": "completed"
    },
    "tags": []
   },
   "source": [
    "When we look at the average of the categories, we can some observe. But this observations are not a statistically significant results.So,\n",
    "we will test all hypotheses of categories  in pairs and obtain statistical results.\n",
    "\n",
    "# Definition of the Hypothesis\n",
    "\n",
    "- **H0 :** There is no statistically significant difference between price average of two category\n",
    "\n",
    "- **H1 :** There is statistically significant difference between price average of two category\n",
    "\n",
    "## Assumptions of the Hypothesis\n",
    "\n",
    "1.  Normal Distribution \n",
    "1.  Homogeneity of Variances\n",
    "\n"
   ]
  },
  {
   "cell_type": "markdown",
   "metadata": {
    "papermill": {
     "duration": 0.033876,
     "end_time": "2020-11-08T08:05:10.348832",
     "exception": false,
     "start_time": "2020-11-08T08:05:10.314956",
     "status": "completed"
    },
    "tags": []
   },
   "source": [
    "# Checking Assumptions\n",
    "\n",
    "## Normal Distribution\n",
    "Non-normal population distributions, especially those that are thick-tailed or heavily skewed, considerably reduce the power of the test\n",
    "\n",
    "**The Shapiro-Wilks Test for Normality**\n",
    "\n",
    "* H0: There is no statistically significant difference between sample distribution and theoretical normal distribution\n",
    "* H1: There is statistically significant difference between sample distribution and theoretical normal distribution"
   ]
  },
  {
   "cell_type": "code",
   "execution_count": 6,
   "metadata": {
    "execution": {
     "iopub.execute_input": "2020-11-08T08:05:10.428004Z",
     "iopub.status.busy": "2020-11-08T08:05:10.427131Z",
     "iopub.status.idle": "2020-11-08T08:05:10.456925Z",
     "shell.execute_reply": "2020-11-08T08:05:10.455814Z"
    },
    "papermill": {
     "duration": 0.071809,
     "end_time": "2020-11-08T08:05:10.457082",
     "exception": false,
     "start_time": "2020-11-08T08:05:10.385273",
     "status": "completed"
    },
    "tags": []
   },
   "outputs": [
    {
     "name": "stdout",
     "output_type": "stream",
     "text": [
      " Shapiro-Wilks Test Result\n",
      "\n",
      " 489756 ->  Test statistic = 0.1095, p-Value = 0.0000 H0 is rejected.\n",
      "\n",
      " 361254 ->  Test statistic = 0.0615, p-Value = 0.0000 H0 is rejected.\n",
      "\n",
      " 874521 ->  Test statistic = 0.1311, p-Value = 0.0000 H0 is rejected.\n",
      "\n",
      " 326584 ->  Test statistic = 0.0568, p-Value = 0.0000 H0 is rejected.\n",
      "\n",
      " 675201 ->  Test statistic = 0.1011, p-Value = 0.0000 H0 is rejected.\n",
      "\n",
      " 201436 ->  Test statistic = 0.6190, p-Value = 0.0000 H0 is rejected.\n"
     ]
    }
   ],
   "source": [
    "# We apply shapiro-wilks test to each group and test their normal distribution.\n",
    "print(\" Shapiro-Wilks Test Result\")\n",
    "for category in df[\"category_id\"].unique():\n",
    "    test_statistic , pvalue = shapiro(df.loc[df[\"category_id\"] ==  category,\"price\"])\n",
    "    if(pvalue<0.05):\n",
    "        print('\\n','{0} -> '.format(category),'Test statistic = %.4f, p-Value = %.4f' % (test_statistic, pvalue),\"H0 is rejected.\")\n",
    "    else:\n",
    "         print('Test statistic = %.4f, p-Value = %.4f' % (test_statistic, pvalue),\"H0 is not rejected.\")"
   ]
  },
  {
   "cell_type": "markdown",
   "metadata": {
    "papermill": {
     "duration": 0.033754,
     "end_time": "2020-11-08T08:05:10.525138",
     "exception": false,
     "start_time": "2020-11-08T08:05:10.491384",
     "status": "completed"
    },
    "tags": []
   },
   "source": [
    "*  489756 ->   H0 is rejected.\n",
    "*  361254 ->   H0 is rejected.\n",
    "*  874521 ->   H0 is rejected.\n",
    "*  326584 ->   H0 is rejected.\n",
    "*  675201 ->   H0 is rejected.\n",
    "*  201436 ->   H0 is rejected.\n",
    "\n",
    "Normal distribution is not provided so, we can analyze outliers."
   ]
  },
  {
   "cell_type": "code",
   "execution_count": 7,
   "metadata": {
    "execution": {
     "iopub.execute_input": "2020-11-08T08:05:10.602199Z",
     "iopub.status.busy": "2020-11-08T08:05:10.601284Z",
     "iopub.status.idle": "2020-11-08T08:05:10.604933Z",
     "shell.execute_reply": "2020-11-08T08:05:10.604178Z"
    },
    "papermill": {
     "duration": 0.045781,
     "end_time": "2020-11-08T08:05:10.605061",
     "exception": false,
     "start_time": "2020-11-08T08:05:10.559280",
     "status": "completed"
    },
    "tags": []
   },
   "outputs": [],
   "source": [
    "# To determine the threshold value for outliers\n",
    "def outlier_thresholds(dataframe, variable, low_quantile=0.05, up_quantile=0.95):\n",
    "    quantile_one = dataframe[variable].quantile(low_quantile)\n",
    "    quantile_three = dataframe[variable].quantile(up_quantile)\n",
    "    interquantile_range = quantile_three - quantile_one\n",
    "    up_limit = quantile_three + 1.5 * interquantile_range\n",
    "    low_limit = quantile_one - 1.5 * interquantile_range\n",
    "    return low_limit, up_limit"
   ]
  },
  {
   "cell_type": "code",
   "execution_count": 8,
   "metadata": {
    "execution": {
     "iopub.execute_input": "2020-11-08T08:05:10.685285Z",
     "iopub.status.busy": "2020-11-08T08:05:10.684385Z",
     "iopub.status.idle": "2020-11-08T08:05:10.689765Z",
     "shell.execute_reply": "2020-11-08T08:05:10.689112Z"
    },
    "papermill": {
     "duration": 0.048557,
     "end_time": "2020-11-08T08:05:10.689910",
     "exception": false,
     "start_time": "2020-11-08T08:05:10.641353",
     "status": "completed"
    },
    "tags": []
   },
   "outputs": [
    {
     "name": "stdout",
     "output_type": "stream",
     "text": [
      "Low Limit : -64.46732638496243  Up Limit : 187.44554397493738\n"
     ]
    }
   ],
   "source": [
    "# Threshold values are determined for the price variable.\n",
    "low_limit,up_limit = outlier_thresholds(df, \"price\")\n",
    "print(\"Low Limit : {0}  Up Limit : {1}\".format(low_limit,up_limit))"
   ]
  },
  {
   "cell_type": "code",
   "execution_count": 9,
   "metadata": {
    "execution": {
     "iopub.execute_input": "2020-11-08T08:05:10.772018Z",
     "iopub.status.busy": "2020-11-08T08:05:10.770999Z",
     "iopub.status.idle": "2020-11-08T08:05:10.774183Z",
     "shell.execute_reply": "2020-11-08T08:05:10.773578Z"
    },
    "papermill": {
     "duration": 0.048307,
     "end_time": "2020-11-08T08:05:10.774315",
     "exception": false,
     "start_time": "2020-11-08T08:05:10.726008",
     "status": "completed"
    },
    "tags": []
   },
   "outputs": [],
   "source": [
    "# Are there any outlier observations? if any, how many?\n",
    "def has_outliers(dataframe, numeric_columns, plot=False):\n",
    "   # variable_names = []\n",
    "    for col in numeric_columns:\n",
    "        low_limit, up_limit = outlier_thresholds(dataframe, col)\n",
    "        if dataframe[(dataframe[col] > up_limit) | (dataframe[col] < low_limit)].any(axis=None):\n",
    "            number_of_outliers = dataframe[(dataframe[col] > up_limit) | (dataframe[col] < low_limit)].shape[0]\n",
    "            print(col, \" : \", number_of_outliers, \"outliers\")\n",
    "            #variable_names.append(col)\n",
    "            if plot:\n",
    "                sns.boxplot(x=dataframe[col])\n",
    "                plt.show()\n",
    "    #return variable_names"
   ]
  },
  {
   "cell_type": "code",
   "execution_count": 10,
   "metadata": {
    "execution": {
     "iopub.execute_input": "2020-11-08T08:05:10.851604Z",
     "iopub.status.busy": "2020-11-08T08:05:10.850435Z",
     "iopub.status.idle": "2020-11-08T08:05:10.859260Z",
     "shell.execute_reply": "2020-11-08T08:05:10.859895Z"
    },
    "papermill": {
     "duration": 0.050637,
     "end_time": "2020-11-08T08:05:10.860052",
     "exception": false,
     "start_time": "2020-11-08T08:05:10.809415",
     "status": "completed"
    },
    "tags": []
   },
   "outputs": [
    {
     "name": "stdout",
     "output_type": "stream",
     "text": [
      "price  :  77 outliers\n"
     ]
    }
   ],
   "source": [
    "has_outliers(df, [\"price\"])"
   ]
  },
  {
   "cell_type": "code",
   "execution_count": 11,
   "metadata": {
    "execution": {
     "iopub.execute_input": "2020-11-08T08:05:10.938910Z",
     "iopub.status.busy": "2020-11-08T08:05:10.938111Z",
     "iopub.status.idle": "2020-11-08T08:05:10.941906Z",
     "shell.execute_reply": "2020-11-08T08:05:10.941157Z"
    },
    "papermill": {
     "duration": 0.046078,
     "end_time": "2020-11-08T08:05:10.942032",
     "exception": false,
     "start_time": "2020-11-08T08:05:10.895954",
     "status": "completed"
    },
    "tags": []
   },
   "outputs": [],
   "source": [
    "# removing outliers\n",
    "def remove_outliers(dataframe, numeric_columns):\n",
    "    for variable in numeric_columns:\n",
    "        low_limit, up_limit = outlier_thresholds(dataframe, variable)\n",
    "        dataframe_without_outliers = dataframe[~((dataframe[variable] < low_limit) | (dataframe[variable] > up_limit))]\n",
    "    return dataframe_without_outliers"
   ]
  },
  {
   "cell_type": "code",
   "execution_count": 12,
   "metadata": {
    "execution": {
     "iopub.execute_input": "2020-11-08T08:05:11.020021Z",
     "iopub.status.busy": "2020-11-08T08:05:11.019015Z",
     "iopub.status.idle": "2020-11-08T08:05:11.025836Z",
     "shell.execute_reply": "2020-11-08T08:05:11.025076Z"
    },
    "papermill": {
     "duration": 0.048255,
     "end_time": "2020-11-08T08:05:11.025964",
     "exception": false,
     "start_time": "2020-11-08T08:05:10.977709",
     "status": "completed"
    },
    "tags": []
   },
   "outputs": [],
   "source": [
    "df = remove_outliers(df, [\"price\"])"
   ]
  },
  {
   "cell_type": "code",
   "execution_count": 13,
   "metadata": {
    "execution": {
     "iopub.execute_input": "2020-11-08T08:05:11.103779Z",
     "iopub.status.busy": "2020-11-08T08:05:11.102629Z",
     "iopub.status.idle": "2020-11-08T08:05:11.107644Z",
     "shell.execute_reply": "2020-11-08T08:05:11.107051Z"
    },
    "papermill": {
     "duration": 0.046,
     "end_time": "2020-11-08T08:05:11.107780",
     "exception": false,
     "start_time": "2020-11-08T08:05:11.061780",
     "status": "completed"
    },
    "tags": []
   },
   "outputs": [
    {
     "data": {
      "text/plain": [
       "(3371, 2)"
      ]
     },
     "execution_count": 13,
     "metadata": {},
     "output_type": "execute_result"
    }
   ],
   "source": [
    "# new shape of dataframe\n",
    "df.shape"
   ]
  },
  {
   "cell_type": "code",
   "execution_count": 14,
   "metadata": {
    "execution": {
     "iopub.execute_input": "2020-11-08T08:05:11.191496Z",
     "iopub.status.busy": "2020-11-08T08:05:11.190378Z",
     "iopub.status.idle": "2020-11-08T08:05:11.201529Z",
     "shell.execute_reply": "2020-11-08T08:05:11.200434Z"
    },
    "papermill": {
     "duration": 0.057343,
     "end_time": "2020-11-08T08:05:11.201756",
     "exception": false,
     "start_time": "2020-11-08T08:05:11.144413",
     "status": "completed"
    },
    "tags": []
   },
   "outputs": [
    {
     "name": "stdout",
     "output_type": "stream",
     "text": [
      " Shapiro-Wilks Test Result\n",
      "\n",
      " 489756 ->  Test statistic = 0.6328, p-Value = 0.0000 H0 is rejected.\n",
      "\n",
      " 361254 ->  Test statistic = 0.4757, p-Value = 0.0000 H0 is rejected.\n",
      "\n",
      " 874521 ->  Test statistic = 0.5116, p-Value = 0.0000 H0 is rejected.\n",
      "\n",
      " 326584 ->  Test statistic = 0.5026, p-Value = 0.0000 H0 is rejected.\n",
      "\n",
      " 675201 ->  Test statistic = 0.6382, p-Value = 0.0000 H0 is rejected.\n",
      "\n",
      " 201436 ->  Test statistic = 0.6190, p-Value = 0.0000 H0 is rejected.\n"
     ]
    }
   ],
   "source": [
    "# We apply shapiro-wilks test to each group and test their normal distribution.\n",
    "print(\" Shapiro-Wilks Test Result\")\n",
    "for category in df[\"category_id\"].unique():\n",
    "    test_statistic , pvalue = shapiro(df.loc[df[\"category_id\"] ==  category,\"price\"])\n",
    "    if(pvalue<0.05):\n",
    "        print('\\n','{0} -> '.format(category),'Test statistic = %.4f, p-Value = %.4f' % (test_statistic, pvalue),\"H0 is rejected.\")\n",
    "    else:\n",
    "         print('Test statistic = %.4f, p-Value = %.4f' % (test_statistic, pvalue),\"H0 is not rejected.\")"
   ]
  },
  {
   "cell_type": "markdown",
   "metadata": {
    "papermill": {
     "duration": 0.036942,
     "end_time": "2020-11-08T08:05:11.276818",
     "exception": false,
     "start_time": "2020-11-08T08:05:11.239876",
     "status": "completed"
    },
    "tags": []
   },
   "source": [
    "*  489756 ->   H0 is rejected.\n",
    "*  361254 ->   H0 is rejected.\n",
    "*  874521 ->   H0 is rejected.\n",
    "*  326584 ->   H0 is rejected.\n",
    "*  675201 ->   H0 is rejected.\n",
    "*  201436 ->   H0 is rejected.\n",
    "\n",
    "Normal distribution was not achieved even after the outliers were removed."
   ]
  },
  {
   "cell_type": "markdown",
   "metadata": {
    "papermill": {
     "duration": 0.038908,
     "end_time": "2020-11-08T08:05:11.353365",
     "exception": false,
     "start_time": "2020-11-08T08:05:11.314457",
     "status": "completed"
    },
    "tags": []
   },
   "source": [
    "## Homogeneity of Variances\n",
    "\n",
    "**Levene’s Test for Homogeneity of variances**\n",
    "\n",
    "Levene’s test is an equal variance test. It can be used to check if our data sets fulfill the homogeneity of variance assumption before we perform the t-test or Analysis of Variance\n",
    "\n",
    "* H0: the compared categories have equal variance.\n",
    "* H1: the compared categories do not have equal variance."
   ]
  },
  {
   "cell_type": "code",
   "execution_count": 15,
   "metadata": {
    "execution": {
     "iopub.execute_input": "2020-11-08T08:05:11.437076Z",
     "iopub.status.busy": "2020-11-08T08:05:11.436022Z",
     "iopub.status.idle": "2020-11-08T08:05:11.441082Z",
     "shell.execute_reply": "2020-11-08T08:05:11.440450Z"
    },
    "papermill": {
     "duration": 0.05052,
     "end_time": "2020-11-08T08:05:11.441225",
     "exception": false,
     "start_time": "2020-11-08T08:05:11.390705",
     "status": "completed"
    },
    "tags": []
   },
   "outputs": [
    {
     "data": {
      "text/plain": [
       "[(489756, 361254),\n",
       " (489756, 874521),\n",
       " (489756, 326584),\n",
       " (489756, 675201),\n",
       " (489756, 201436),\n",
       " (361254, 874521),\n",
       " (361254, 326584),\n",
       " (361254, 675201),\n",
       " (361254, 201436),\n",
       " (874521, 326584),\n",
       " (874521, 675201),\n",
       " (874521, 201436),\n",
       " (326584, 675201),\n",
       " (326584, 201436),\n",
       " (675201, 201436)]"
      ]
     },
     "execution_count": 15,
     "metadata": {},
     "output_type": "execute_result"
    }
   ],
   "source": [
    "# category pairs for hypothesis\n",
    "pairs = []\n",
    "for pair in itertools.combinations(df[\"category_id\"].unique(),2):\n",
    "    pairs.append(pair)\n",
    "pairs"
   ]
  },
  {
   "cell_type": "code",
   "execution_count": 16,
   "metadata": {
    "execution": {
     "iopub.execute_input": "2020-11-08T08:05:11.532191Z",
     "iopub.status.busy": "2020-11-08T08:05:11.527483Z",
     "iopub.status.idle": "2020-11-08T08:05:11.574580Z",
     "shell.execute_reply": "2020-11-08T08:05:11.575378Z"
    },
    "papermill": {
     "duration": 0.09638,
     "end_time": "2020-11-08T08:05:11.575631",
     "exception": false,
     "start_time": "2020-11-08T08:05:11.479251",
     "status": "completed"
    },
    "tags": []
   },
   "outputs": [
    {
     "name": "stdout",
     "output_type": "stream",
     "text": [
      "  Levene Test Result\n",
      "\n",
      " (489756 - 361254) ->  Test statistic = 86.2415, p-Value = 0.0000   H0 is rejected\n",
      "\n",
      " (489756 - 874521) ->  Test statistic = 12.9032, p-Value = 0.0003   H0 is rejected\n",
      "\n",
      " (489756 - 326584) ->  Test statistic = 11.9908, p-Value = 0.0005   H0 is rejected\n",
      "\n",
      " (489756 - 675201) ->  Test statistic = 9.1123, p-Value = 0.0026   H0 is rejected\n",
      "\n",
      " (489756 - 201436) ->  Test statistic = 10.7554, p-Value = 0.0011   H0 is rejected\n",
      "\n",
      " (361254 - 874521) ->  Test statistic = 31.9953, p-Value = 0.0000   H0 is rejected\n",
      "\n",
      " (361254 - 326584) ->  Test statistic = 4.9865, p-Value = 0.0258   H0 is rejected\n",
      "\n",
      " (361254 - 675201) ->  Test statistic = 7.8657, p-Value = 0.0052   H0 is rejected\n",
      "\n",
      " (361254 - 201436) ->  Test statistic = 1.3037, p-Value = 0.2539   H0 is not rejected\n",
      "\n",
      " (874521 - 326584) ->  Test statistic = 2.8538, p-Value = 0.0915   H0 is not rejected\n",
      "\n",
      " (874521 - 675201) ->  Test statistic = 1.7651, p-Value = 0.1843   H0 is not rejected\n",
      "\n",
      " (874521 - 201436) ->  Test statistic = 3.4482, p-Value = 0.0637   H0 is not rejected\n",
      "\n",
      " (326584 - 675201) ->  Test statistic = 0.1294, p-Value = 0.7193   H0 is not rejected\n",
      "\n",
      " (326584 - 201436) ->  Test statistic = 0.3668, p-Value = 0.5453   H0 is not rejected\n",
      "\n",
      " (675201 - 201436) ->  Test statistic = 1.0627, p-Value = 0.3037   H0 is not rejected\n"
     ]
    }
   ],
   "source": [
    "print(\"  Levene Test Result\")\n",
    "for pair in pairs:\n",
    "    test_statistic,pvalue = stats.levene(df.loc[df[\"category_id\"] ==  pair[0],\"price\"],df.loc[df[\"category_id\"] ==  pair[1],\"price\"] )\n",
    "    if(pvalue < 0.05):\n",
    "        print('\\n',\"({0} - {1}) -> \".format(pair[0],pair[1]),'Test statistic = %.4f, p-Value = %.4f' % (test_statistic, pvalue), \"  H0 is rejected\")\n",
    "    else:\n",
    "         print('\\n',\"({0} - {1}) -> \".format(pair[0],pair[1]),'Test statistic = %.4f, p-Value = %.4f' % (test_statistic, pvalue), \"  H0 is not rejected\")"
   ]
  },
  {
   "cell_type": "markdown",
   "metadata": {
    "papermill": {
     "duration": 0.038734,
     "end_time": "2020-11-08T08:05:11.653327",
     "exception": false,
     "start_time": "2020-11-08T08:05:11.614593",
     "status": "completed"
    },
    "tags": []
   },
   "source": [
    "**Pairs that do not have equal variance (H0 is rejected):**\n",
    "*  (489756 - 361254) \n",
    "*  (489756 - 874521) \n",
    "*  (489756 - 326584) \n",
    "*  (489756 - 675201) \n",
    "*  (489756 - 201436) \n",
    "*  (361254 - 874521) \n",
    "*  (361254 - 326584) \n",
    "*  (361254 - 675201) \n",
    "\n",
    "**Pairs that have equal variance (H0 is not rejected):**\n",
    "*  (361254 - 201436) \n",
    "*  (874521 - 326584) \n",
    "*  (874521 - 675201) \n",
    "*  (874521 - 201436) \n",
    "*  (326584 - 675201) \n",
    "*  (326584 - 201436) \n",
    "*  (675201 - 201436) \n"
   ]
  },
  {
   "cell_type": "markdown",
   "metadata": {
    "papermill": {
     "duration": 0.037906,
     "end_time": "2020-11-08T08:05:11.730210",
     "exception": false,
     "start_time": "2020-11-08T08:05:11.692304",
     "status": "completed"
    },
    "tags": []
   },
   "source": [
    "# Implementing Hypothesis Test\n",
    "\n",
    "We decide which test to apply according to the assumptions of normality and variance.\n",
    "Normal distribution hypotheses of the groups were rejected. Therefore, we need to apply a non-parametric method.\n",
    "\n",
    "## Non-Parametrik İndependet Two Sample Test\n",
    "**Mann-Whitney U test:** It is a non-parametric method used to compare the means of two independent groups in a distribution that does not show normal distribution.\n",
    "\n",
    "* H0 : There is no statistically significant difference between price average of two category\n",
    "\n",
    "* H1 : There is statistically significant difference between price average of two category"
   ]
  },
  {
   "cell_type": "code",
   "execution_count": 17,
   "metadata": {
    "execution": {
     "iopub.execute_input": "2020-11-08T08:05:11.819103Z",
     "iopub.status.busy": "2020-11-08T08:05:11.815425Z",
     "iopub.status.idle": "2020-11-08T08:05:11.862155Z",
     "shell.execute_reply": "2020-11-08T08:05:11.862749Z"
    },
    "papermill": {
     "duration": 0.094412,
     "end_time": "2020-11-08T08:05:11.862902",
     "exception": false,
     "start_time": "2020-11-08T08:05:11.768490",
     "status": "completed"
    },
    "tags": []
   },
   "outputs": [
    {
     "name": "stdout",
     "output_type": "stream",
     "text": [
      " Mann-Whitney U test Result\n",
      "\n",
      " (489756 - 361254) ->  Test statistic = 371652.5000, p-Value = 0.0000   H0 is rejected\n",
      "\n",
      " (489756 - 874521) ->  Test statistic = 482405.0000, p-Value = 0.0000   H0 is rejected\n",
      "\n",
      " (489756 - 326584) ->  Test statistic = 68317.0000, p-Value = 0.0000   H0 is rejected\n",
      "\n",
      " (489756 - 675201) ->  Test statistic = 83360.5000, p-Value = 0.0000   H0 is rejected\n",
      "\n",
      " (489756 - 201436) ->  Test statistic = 60158.0000, p-Value = 0.0000   H0 is rejected\n",
      "\n",
      " (361254 - 874521) ->  Test statistic = 214411.0000, p-Value = 0.0909   H0 is not rejected\n",
      "\n",
      " (361254 - 326584) ->  Test statistic = 32541.0000, p-Value = 0.0000   H0 is rejected\n",
      "\n",
      " (361254 - 675201) ->  Test statistic = 38936.0000, p-Value = 0.3708   H0 is not rejected\n",
      "\n",
      " (361254 - 201436) ->  Test statistic = 29521.0000, p-Value = 0.4354   H0 is not rejected\n",
      "\n",
      " (874521 - 326584) ->  Test statistic = 38009.0000, p-Value = 0.0000   H0 is rejected\n",
      "\n",
      " (874521 - 675201) ->  Test statistic = 46044.0000, p-Value = 0.3623   H0 is not rejected\n",
      "\n",
      " (874521 - 201436) ->  Test statistic = 34006.0000, p-Value = 0.2772   H0 is not rejected\n",
      "\n",
      " (326584 - 675201) ->  Test statistic = 6833.5000, p-Value = 0.0001   H0 is rejected\n",
      "\n",
      " (326584 - 201436) ->  Test statistic = 5204.0000, p-Value = 0.0003   H0 is rejected\n",
      "\n",
      " (675201 - 201436) ->  Test statistic = 6121.0000, p-Value = 0.3905   H0 is not rejected\n"
     ]
    }
   ],
   "source": [
    "listofResult = []\n",
    "print(\" Mann-Whitney U test Result\")\n",
    "for pair in pairs:\n",
    "    test_statistic,pvalue = stats.stats.mannwhitneyu(df.loc[df[\"category_id\"] ==  pair[0],\"price\"],df.loc[df[\"category_id\"] ==  pair[1],\"price\"] )\n",
    "    if(pvalue < 0.05):\n",
    "        listofResult.append((pair[0],pair[1], \"H0 is Rejected\"))\n",
    "        print('\\n',\"({0} - {1}) -> \".format(pair[0],pair[1]),'Test statistic = %.4f, p-Value = %.4f' % (test_statistic, pvalue), \"  H0 is rejected\")\n",
    "    else:\n",
    "        print('\\n',\"({0} - {1}) -> \".format(pair[0],pair[1]),'Test statistic = %.4f, p-Value = %.4f' % (test_statistic, pvalue), \"  H0 is not rejected\")\n",
    "        listofResult.append((pair[0],pair[1], \"H0 is not Rejected\"))"
   ]
  },
  {
   "cell_type": "code",
   "execution_count": 18,
   "metadata": {
    "execution": {
     "iopub.execute_input": "2020-11-08T08:05:11.951696Z",
     "iopub.status.busy": "2020-11-08T08:05:11.950767Z",
     "iopub.status.idle": "2020-11-08T08:05:11.954137Z",
     "shell.execute_reply": "2020-11-08T08:05:11.953532Z"
    },
    "papermill": {
     "duration": 0.052444,
     "end_time": "2020-11-08T08:05:11.954265",
     "exception": false,
     "start_time": "2020-11-08T08:05:11.901821",
     "status": "completed"
    },
    "tags": []
   },
   "outputs": [],
   "source": [
    "result_df = pd.DataFrame()\n",
    "result_df[\"Category 1\"] = [pair[0] for pair in listofResult]\n",
    "result_df[\"Category 2\"] = [pair[1] for pair in listofResult]\n",
    "result_df[\"H0\"] = [pair[2] for pair in listofResult]"
   ]
  },
  {
   "cell_type": "code",
   "execution_count": 19,
   "metadata": {
    "execution": {
     "iopub.execute_input": "2020-11-08T08:05:12.045860Z",
     "iopub.status.busy": "2020-11-08T08:05:12.044742Z",
     "iopub.status.idle": "2020-11-08T08:05:12.049433Z",
     "shell.execute_reply": "2020-11-08T08:05:12.048703Z"
    },
    "papermill": {
     "duration": 0.054908,
     "end_time": "2020-11-08T08:05:12.049591",
     "exception": false,
     "start_time": "2020-11-08T08:05:11.994683",
     "status": "completed"
    },
    "tags": []
   },
   "outputs": [
    {
     "data": {
      "text/html": [
       "<div>\n",
       "<style scoped>\n",
       "    .dataframe tbody tr th:only-of-type {\n",
       "        vertical-align: middle;\n",
       "    }\n",
       "\n",
       "    .dataframe tbody tr th {\n",
       "        vertical-align: top;\n",
       "    }\n",
       "\n",
       "    .dataframe thead th {\n",
       "        text-align: right;\n",
       "    }\n",
       "</style>\n",
       "<table border=\"1\" class=\"dataframe\">\n",
       "  <thead>\n",
       "    <tr style=\"text-align: right;\">\n",
       "      <th></th>\n",
       "      <th>Category 1</th>\n",
       "      <th>Category 2</th>\n",
       "      <th>H0</th>\n",
       "    </tr>\n",
       "  </thead>\n",
       "  <tbody>\n",
       "    <tr>\n",
       "      <th>0</th>\n",
       "      <td>489756</td>\n",
       "      <td>361254</td>\n",
       "      <td>H0 is Rejected</td>\n",
       "    </tr>\n",
       "    <tr>\n",
       "      <th>1</th>\n",
       "      <td>489756</td>\n",
       "      <td>874521</td>\n",
       "      <td>H0 is Rejected</td>\n",
       "    </tr>\n",
       "    <tr>\n",
       "      <th>2</th>\n",
       "      <td>489756</td>\n",
       "      <td>326584</td>\n",
       "      <td>H0 is Rejected</td>\n",
       "    </tr>\n",
       "    <tr>\n",
       "      <th>3</th>\n",
       "      <td>489756</td>\n",
       "      <td>675201</td>\n",
       "      <td>H0 is Rejected</td>\n",
       "    </tr>\n",
       "    <tr>\n",
       "      <th>4</th>\n",
       "      <td>489756</td>\n",
       "      <td>201436</td>\n",
       "      <td>H0 is Rejected</td>\n",
       "    </tr>\n",
       "    <tr>\n",
       "      <th>5</th>\n",
       "      <td>361254</td>\n",
       "      <td>874521</td>\n",
       "      <td>H0 is not Rejected</td>\n",
       "    </tr>\n",
       "    <tr>\n",
       "      <th>6</th>\n",
       "      <td>361254</td>\n",
       "      <td>326584</td>\n",
       "      <td>H0 is Rejected</td>\n",
       "    </tr>\n",
       "    <tr>\n",
       "      <th>7</th>\n",
       "      <td>361254</td>\n",
       "      <td>675201</td>\n",
       "      <td>H0 is not Rejected</td>\n",
       "    </tr>\n",
       "    <tr>\n",
       "      <th>8</th>\n",
       "      <td>361254</td>\n",
       "      <td>201436</td>\n",
       "      <td>H0 is not Rejected</td>\n",
       "    </tr>\n",
       "    <tr>\n",
       "      <th>9</th>\n",
       "      <td>874521</td>\n",
       "      <td>326584</td>\n",
       "      <td>H0 is Rejected</td>\n",
       "    </tr>\n",
       "    <tr>\n",
       "      <th>10</th>\n",
       "      <td>874521</td>\n",
       "      <td>675201</td>\n",
       "      <td>H0 is not Rejected</td>\n",
       "    </tr>\n",
       "    <tr>\n",
       "      <th>11</th>\n",
       "      <td>874521</td>\n",
       "      <td>201436</td>\n",
       "      <td>H0 is not Rejected</td>\n",
       "    </tr>\n",
       "    <tr>\n",
       "      <th>12</th>\n",
       "      <td>326584</td>\n",
       "      <td>675201</td>\n",
       "      <td>H0 is Rejected</td>\n",
       "    </tr>\n",
       "    <tr>\n",
       "      <th>13</th>\n",
       "      <td>326584</td>\n",
       "      <td>201436</td>\n",
       "      <td>H0 is Rejected</td>\n",
       "    </tr>\n",
       "    <tr>\n",
       "      <th>14</th>\n",
       "      <td>675201</td>\n",
       "      <td>201436</td>\n",
       "      <td>H0 is not Rejected</td>\n",
       "    </tr>\n",
       "  </tbody>\n",
       "</table>\n",
       "</div>"
      ],
      "text/plain": [
       "    Category 1  Category 2                  H0\n",
       "0       489756      361254      H0 is Rejected\n",
       "1       489756      874521      H0 is Rejected\n",
       "2       489756      326584      H0 is Rejected\n",
       "3       489756      675201      H0 is Rejected\n",
       "4       489756      201436      H0 is Rejected\n",
       "5       361254      874521  H0 is not Rejected\n",
       "6       361254      326584      H0 is Rejected\n",
       "7       361254      675201  H0 is not Rejected\n",
       "8       361254      201436  H0 is not Rejected\n",
       "9       874521      326584      H0 is Rejected\n",
       "10      874521      675201  H0 is not Rejected\n",
       "11      874521      201436  H0 is not Rejected\n",
       "12      326584      675201      H0 is Rejected\n",
       "13      326584      201436      H0 is Rejected\n",
       "14      675201      201436  H0 is not Rejected"
      ]
     },
     "execution_count": 19,
     "metadata": {},
     "output_type": "execute_result"
    }
   ],
   "source": [
    "result_df"
   ]
  },
  {
   "cell_type": "markdown",
   "metadata": {
    "papermill": {
     "duration": 0.03998,
     "end_time": "2020-11-08T08:05:12.129953",
     "exception": false,
     "start_time": "2020-11-08T08:05:12.089973",
     "status": "completed"
    },
    "tags": []
   },
   "source": [
    "## Does the price of the item differ by category? \n",
    "When we examine the table above, there is no statistically significant difference average price between 6 categorical pairs, while there is a statistically significant difference average price** between 12 categorical pairs."
   ]
  },
  {
   "cell_type": "markdown",
   "metadata": {
    "papermill": {
     "duration": 0.040126,
     "end_time": "2020-11-08T08:05:12.210222",
     "exception": false,
     "start_time": "2020-11-08T08:05:12.170096",
     "status": "completed"
    },
    "tags": []
   },
   "source": [
    "## What should the item cost?\n"
   ]
  },
  {
   "cell_type": "code",
   "execution_count": 20,
   "metadata": {
    "execution": {
     "iopub.execute_input": "2020-11-08T08:05:12.304300Z",
     "iopub.status.busy": "2020-11-08T08:05:12.303131Z",
     "iopub.status.idle": "2020-11-08T08:05:12.307649Z",
     "shell.execute_reply": "2020-11-08T08:05:12.308206Z"
    },
    "papermill": {
     "duration": 0.058419,
     "end_time": "2020-11-08T08:05:12.308370",
     "exception": false,
     "start_time": "2020-11-08T08:05:12.249951",
     "status": "completed"
    },
    "tags": []
   },
   "outputs": [
    {
     "data": {
      "text/html": [
       "<div>\n",
       "<style scoped>\n",
       "    .dataframe tbody tr th:only-of-type {\n",
       "        vertical-align: middle;\n",
       "    }\n",
       "\n",
       "    .dataframe tbody tr th {\n",
       "        vertical-align: top;\n",
       "    }\n",
       "\n",
       "    .dataframe thead th {\n",
       "        text-align: right;\n",
       "    }\n",
       "</style>\n",
       "<table border=\"1\" class=\"dataframe\">\n",
       "  <thead>\n",
       "    <tr style=\"text-align: right;\">\n",
       "      <th></th>\n",
       "      <th>Category 1</th>\n",
       "      <th>Category 2</th>\n",
       "      <th>H0</th>\n",
       "    </tr>\n",
       "  </thead>\n",
       "  <tbody>\n",
       "    <tr>\n",
       "      <th>5</th>\n",
       "      <td>361254</td>\n",
       "      <td>874521</td>\n",
       "      <td>H0 is not Rejected</td>\n",
       "    </tr>\n",
       "    <tr>\n",
       "      <th>7</th>\n",
       "      <td>361254</td>\n",
       "      <td>675201</td>\n",
       "      <td>H0 is not Rejected</td>\n",
       "    </tr>\n",
       "    <tr>\n",
       "      <th>8</th>\n",
       "      <td>361254</td>\n",
       "      <td>201436</td>\n",
       "      <td>H0 is not Rejected</td>\n",
       "    </tr>\n",
       "    <tr>\n",
       "      <th>10</th>\n",
       "      <td>874521</td>\n",
       "      <td>675201</td>\n",
       "      <td>H0 is not Rejected</td>\n",
       "    </tr>\n",
       "    <tr>\n",
       "      <th>11</th>\n",
       "      <td>874521</td>\n",
       "      <td>201436</td>\n",
       "      <td>H0 is not Rejected</td>\n",
       "    </tr>\n",
       "    <tr>\n",
       "      <th>14</th>\n",
       "      <td>675201</td>\n",
       "      <td>201436</td>\n",
       "      <td>H0 is not Rejected</td>\n",
       "    </tr>\n",
       "  </tbody>\n",
       "</table>\n",
       "</div>"
      ],
      "text/plain": [
       "    Category 1  Category 2                  H0\n",
       "5       361254      874521  H0 is not Rejected\n",
       "7       361254      675201  H0 is not Rejected\n",
       "8       361254      201436  H0 is not Rejected\n",
       "10      874521      675201  H0 is not Rejected\n",
       "11      874521      201436  H0 is not Rejected\n",
       "14      675201      201436  H0 is not Rejected"
      ]
     },
     "execution_count": 20,
     "metadata": {},
     "output_type": "execute_result"
    }
   ],
   "source": [
    "result_df[result_df[\"H0\"] == \"H0 is not Rejected\"]"
   ]
  },
  {
   "cell_type": "markdown",
   "metadata": {
    "papermill": {
     "duration": 0.047395,
     "end_time": "2020-11-08T08:05:12.398749",
     "exception": false,
     "start_time": "2020-11-08T08:05:12.351354",
     "status": "completed"
    },
    "tags": []
   },
   "source": [
    "Categorical groups with no statistically significant difference :  \n",
    "* 361254\n",
    "* 874512\n",
    "* 675201\n",
    "* 201436\n",
    "\n",
    "We can make the prices of these groups which do not differ statistically, are the same. we may apply the same price to the remaining two groups, let's examine their averages."
   ]
  },
  {
   "cell_type": "code",
   "execution_count": 21,
   "metadata": {
    "execution": {
     "iopub.execute_input": "2020-11-08T08:05:12.513881Z",
     "iopub.status.busy": "2020-11-08T08:05:12.512797Z",
     "iopub.status.idle": "2020-11-08T08:05:12.517965Z",
     "shell.execute_reply": "2020-11-08T08:05:12.517117Z"
    },
    "papermill": {
     "duration": 0.065008,
     "end_time": "2020-11-08T08:05:12.518111",
     "exception": false,
     "start_time": "2020-11-08T08:05:12.453103",
     "status": "completed"
    },
    "tags": []
   },
   "outputs": [
    {
     "data": {
      "text/html": [
       "<div>\n",
       "<style scoped>\n",
       "    .dataframe tbody tr th:only-of-type {\n",
       "        vertical-align: middle;\n",
       "    }\n",
       "\n",
       "    .dataframe tbody tr th {\n",
       "        vertical-align: top;\n",
       "    }\n",
       "\n",
       "    .dataframe thead th {\n",
       "        text-align: right;\n",
       "    }\n",
       "</style>\n",
       "<table border=\"1\" class=\"dataframe\">\n",
       "  <thead>\n",
       "    <tr style=\"text-align: right;\">\n",
       "      <th></th>\n",
       "      <th>price</th>\n",
       "    </tr>\n",
       "    <tr>\n",
       "      <th>category_id</th>\n",
       "      <th></th>\n",
       "    </tr>\n",
       "  </thead>\n",
       "  <tbody>\n",
       "    <tr>\n",
       "      <th>201436</th>\n",
       "      <td>36.175498</td>\n",
       "    </tr>\n",
       "    <tr>\n",
       "      <th>326584</th>\n",
       "      <td>35.693170</td>\n",
       "    </tr>\n",
       "    <tr>\n",
       "      <th>361254</th>\n",
       "      <td>35.477261</td>\n",
       "    </tr>\n",
       "    <tr>\n",
       "      <th>489756</th>\n",
       "      <td>43.603983</td>\n",
       "    </tr>\n",
       "    <tr>\n",
       "      <th>675201</th>\n",
       "      <td>37.443592</td>\n",
       "    </tr>\n",
       "    <tr>\n",
       "      <th>874521</th>\n",
       "      <td>39.273175</td>\n",
       "    </tr>\n",
       "  </tbody>\n",
       "</table>\n",
       "</div>"
      ],
      "text/plain": [
       "                 price\n",
       "category_id           \n",
       "201436       36.175498\n",
       "326584       35.693170\n",
       "361254       35.477261\n",
       "489756       43.603983\n",
       "675201       37.443592\n",
       "874521       39.273175"
      ]
     },
     "execution_count": 21,
     "metadata": {},
     "output_type": "execute_result"
    }
   ],
   "source": [
    "df.groupby(\"category_id\").agg({\"price\":\"mean\"})"
   ]
  },
  {
   "cell_type": "markdown",
   "metadata": {
    "papermill": {
     "duration": 0.040917,
     "end_time": "2020-11-08T08:05:12.605689",
     "exception": false,
     "start_time": "2020-11-08T08:05:12.564772",
     "status": "completed"
    },
    "tags": []
   },
   "source": [
    "Category 326584 is very close to the price average of the other 4 groups we are considering to make the same price. Category 489756 differs, but we will not set a separate price for it, and we will continue with a common price scenario for all categories.\n",
    "\n",
    "The average of 4 statistically identical categories will be the price we will determine. Since the average price paid by the other two category is high or close, not including them will not affect the purchase negatively."
   ]
  },
  {
   "cell_type": "code",
   "execution_count": 22,
   "metadata": {
    "execution": {
     "iopub.execute_input": "2020-11-08T08:05:12.701950Z",
     "iopub.status.busy": "2020-11-08T08:05:12.700930Z",
     "iopub.status.idle": "2020-11-08T08:05:12.704359Z",
     "shell.execute_reply": "2020-11-08T08:05:12.703728Z"
    },
    "papermill": {
     "duration": 0.056431,
     "end_time": "2020-11-08T08:05:12.704487",
     "exception": false,
     "start_time": "2020-11-08T08:05:12.648056",
     "status": "completed"
    },
    "tags": []
   },
   "outputs": [],
   "source": [
    "signif_cat = [361254,874521,675201,201436]\n",
    "sum = 0 \n",
    "for i in signif_cat:\n",
    "    sum += df.loc[df[\"category_id\"]== i,\"price\"].mean() \n",
    "PRICE = sum/4"
   ]
  },
  {
   "cell_type": "code",
   "execution_count": 23,
   "metadata": {
    "execution": {
     "iopub.execute_input": "2020-11-08T08:05:12.795251Z",
     "iopub.status.busy": "2020-11-08T08:05:12.794195Z",
     "iopub.status.idle": "2020-11-08T08:05:12.798887Z",
     "shell.execute_reply": "2020-11-08T08:05:12.797929Z"
    },
    "papermill": {
     "duration": 0.051896,
     "end_time": "2020-11-08T08:05:12.799042",
     "exception": false,
     "start_time": "2020-11-08T08:05:12.747146",
     "status": "completed"
    },
    "tags": []
   },
   "outputs": [
    {
     "name": "stdout",
     "output_type": "stream",
     "text": [
      "PRICE :{37.0924}\n"
     ]
    }
   ],
   "source": [
    "print(\"PRICE :{%.4f}\"%PRICE)"
   ]
  },
  {
   "cell_type": "markdown",
   "metadata": {
    "papermill": {
     "duration": 0.042644,
     "end_time": "2020-11-08T08:05:12.885452",
     "exception": false,
     "start_time": "2020-11-08T08:05:12.842808",
     "status": "completed"
    },
    "tags": []
   },
   "source": [
    "## Confidence Intervals: It is desirable to be \"flexible\" in terms of price. "
   ]
  },
  {
   "cell_type": "code",
   "execution_count": 24,
   "metadata": {
    "execution": {
     "iopub.execute_input": "2020-11-08T08:05:12.979818Z",
     "iopub.status.busy": "2020-11-08T08:05:12.978746Z",
     "iopub.status.idle": "2020-11-08T08:05:12.982452Z",
     "shell.execute_reply": "2020-11-08T08:05:12.981875Z"
    },
    "papermill": {
     "duration": 0.055184,
     "end_time": "2020-11-08T08:05:12.982607",
     "exception": false,
     "start_time": "2020-11-08T08:05:12.927423",
     "status": "completed"
    },
    "tags": []
   },
   "outputs": [],
   "source": [
    "# We list the prices of the 4 categories that selected for pricing\n",
    "prices = []\n",
    "for category in signif_cat:\n",
    "    for i in df.loc[df[\"category_id\"]== category,\"price\"]:\n",
    "        prices.append(i)"
   ]
  },
  {
   "cell_type": "code",
   "execution_count": 25,
   "metadata": {
    "execution": {
     "iopub.execute_input": "2020-11-08T08:05:13.074641Z",
     "iopub.status.busy": "2020-11-08T08:05:13.073864Z",
     "iopub.status.idle": "2020-11-08T08:05:13.081845Z",
     "shell.execute_reply": "2020-11-08T08:05:13.080895Z"
    },
    "papermill": {
     "duration": 0.055615,
     "end_time": "2020-11-08T08:05:13.081978",
     "exception": false,
     "start_time": "2020-11-08T08:05:13.026363",
     "status": "completed"
    },
    "tags": []
   },
   "outputs": [
    {
     "name": "stdout",
     "output_type": "stream",
     "text": [
      "Felexible Price Range:  (36.7109597897918, 38.17576299427283)\n"
     ]
    }
   ],
   "source": [
    "print(\"Felexible Price Range: \", sms.DescrStatsW(prices).tconfint_mean())"
   ]
  },
  {
   "cell_type": "markdown",
   "metadata": {
    "papermill": {
     "duration": 0.043043,
     "end_time": "2020-11-08T08:05:13.169087",
     "exception": false,
     "start_time": "2020-11-08T08:05:13.126044",
     "status": "completed"
    },
    "tags": []
   },
   "source": [
    "# Simulation For Item Purchases\n",
    "\n",
    "We will calculate the incomes that can be obtained from the minimum, maximum values of the confidence interval and the prices we set."
   ]
  },
  {
   "cell_type": "markdown",
   "metadata": {
    "papermill": {
     "duration": 0.042814,
     "end_time": "2020-11-08T08:05:13.255557",
     "exception": false,
     "start_time": "2020-11-08T08:05:13.212743",
     "status": "completed"
    },
    "tags": []
   },
   "source": [
    "## Assumption 1 :  Price(36.71096) "
   ]
  },
  {
   "cell_type": "code",
   "execution_count": 26,
   "metadata": {
    "execution": {
     "iopub.execute_input": "2020-11-08T08:05:13.352250Z",
     "iopub.status.busy": "2020-11-08T08:05:13.351389Z",
     "iopub.status.idle": "2020-11-08T08:05:13.356771Z",
     "shell.execute_reply": "2020-11-08T08:05:13.356025Z"
    },
    "papermill": {
     "duration": 0.05826,
     "end_time": "2020-11-08T08:05:13.356900",
     "exception": false,
     "start_time": "2020-11-08T08:05:13.298640",
     "status": "completed"
    },
    "tags": []
   },
   "outputs": [
    {
     "name": "stdout",
     "output_type": "stream",
     "text": [
      "Income:  38436.37512\n"
     ]
    }
   ],
   "source": [
    "#For minimum price in confidence interval\n",
    "freq = len(df[df[\"price\"]>=36.7109597897918]) #number of sales equal to or greater than this price\n",
    "income = freq * 36.71096 #income\n",
    "print(\"Income: \", income)"
   ]
  },
  {
   "cell_type": "markdown",
   "metadata": {
    "papermill": {
     "duration": 0.043602,
     "end_time": "2020-11-08T08:05:13.444248",
     "exception": false,
     "start_time": "2020-11-08T08:05:13.400646",
     "status": "completed"
    },
    "tags": []
   },
   "source": [
    "## Assumption 2: Price(37.0923) "
   ]
  },
  {
   "cell_type": "code",
   "execution_count": 27,
   "metadata": {
    "execution": {
     "iopub.execute_input": "2020-11-08T08:05:13.540565Z",
     "iopub.status.busy": "2020-11-08T08:05:13.539590Z",
     "iopub.status.idle": "2020-11-08T08:05:13.543593Z",
     "shell.execute_reply": "2020-11-08T08:05:13.542968Z"
    },
    "papermill": {
     "duration": 0.055575,
     "end_time": "2020-11-08T08:05:13.543726",
     "exception": false,
     "start_time": "2020-11-08T08:05:13.488151",
     "status": "completed"
    },
    "tags": []
   },
   "outputs": [
    {
     "name": "stdout",
     "output_type": "stream",
     "text": [
      "Income:  37611.67511719994\n"
     ]
    }
   ],
   "source": [
    "# For decided price\n",
    "freq = len(df[df[\"price\"]>=37.09238177238653]) #number of sales equal to or greater than this price\n",
    "income = freq * 37.09238177238653 #income\n",
    "print(\"Income: \", income)"
   ]
  },
  {
   "cell_type": "markdown",
   "metadata": {
    "papermill": {
     "duration": 0.044499,
     "end_time": "2020-11-08T08:05:13.633030",
     "exception": false,
     "start_time": "2020-11-08T08:05:13.588531",
     "status": "completed"
    },
    "tags": []
   },
   "source": [
    "## Assumption 3 : Price(38.17576)"
   ]
  },
  {
   "cell_type": "code",
   "execution_count": 28,
   "metadata": {
    "execution": {
     "iopub.execute_input": "2020-11-08T08:05:13.730298Z",
     "iopub.status.busy": "2020-11-08T08:05:13.729189Z",
     "iopub.status.idle": "2020-11-08T08:05:13.734667Z",
     "shell.execute_reply": "2020-11-08T08:05:13.733879Z"
    },
    "papermill": {
     "duration": 0.056195,
     "end_time": "2020-11-08T08:05:13.734803",
     "exception": false,
     "start_time": "2020-11-08T08:05:13.678608",
     "status": "completed"
    },
    "tags": []
   },
   "outputs": [
    {
     "name": "stdout",
     "output_type": "stream",
     "text": [
      "Income:  35388.93229569092\n"
     ]
    }
   ],
   "source": [
    "# For maximum price in confidence interval\n",
    "freq = len(df[df[\"price\"]>=38.17576299427283])\n",
    "income = freq * 38.17576299427283\n",
    "print(\"Income: \",income)"
   ]
  },
  {
   "cell_type": "markdown",
   "metadata": {
    "papermill": {
     "duration": 0.044751,
     "end_time": "2020-11-08T08:05:13.824901",
     "exception": false,
     "start_time": "2020-11-08T08:05:13.780150",
     "status": "completed"
    },
    "tags": []
   },
   "source": [
    "## SUMMARY\n",
    "\n",
    "- A statistical test was applied to see if prices varied categorically.\n",
    "   - the assumptions for the test were checked\n",
    "   - All Categories rejected the normal distribution hypothesis, so it was decided to apply  non-parametric independent two sample test.\n",
    "- It was observed whether there was a significant statistical difference between the categories and pricing has been made for the item.\n",
    "- Confidence interval was determined as flexibility was desired in terms of price.\n",
    "- Product purchases were simulated for possible price changes according to the confidence interval."
   ]
  }
 ],
 "metadata": {
  "kernelspec": {
   "display_name": "Python 3",
   "language": "python",
   "name": "python3"
  },
  "language_info": {
   "codemirror_mode": {
    "name": "ipython",
    "version": 3
   },
   "file_extension": ".py",
   "mimetype": "text/x-python",
   "name": "python",
   "nbconvert_exporter": "python",
   "pygments_lexer": "ipython3",
   "version": "3.7.4"
  },
  "papermill": {
   "duration": 10.368175,
   "end_time": "2020-11-08T08:05:13.978626",
   "environment_variables": {},
   "exception": null,
   "input_path": "__notebook__.ipynb",
   "output_path": "__notebook__.ipynb",
   "parameters": {},
   "start_time": "2020-11-08T08:05:03.610451",
   "version": "2.1.0"
  }
 },
 "nbformat": 4,
 "nbformat_minor": 4
}
